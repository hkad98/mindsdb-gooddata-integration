{
 "cells": [
  {
   "cell_type": "code",
   "execution_count": 1,
   "outputs": [
    {
     "name": "stdout",
     "output_type": "stream",
     "text": [
      "Requirement already satisfied: gooddata-sdk in ./.mindsdb/lib/python3.8/site-packages (1.0.0)\r\n",
      "Requirement already satisfied: importlib-metadata>=1.0 in ./.mindsdb/lib/python3.8/site-packages (from gooddata-sdk) (4.12.0)\r\n",
      "Requirement already satisfied: python-dateutil>=2.5.3 in ./.mindsdb/lib/python3.8/site-packages (from gooddata-sdk) (2.8.2)\r\n",
      "Requirement already satisfied: gooddata-metadata-client~=1.0.0 in ./.mindsdb/lib/python3.8/site-packages (from gooddata-sdk) (1.0.0)\r\n",
      "Requirement already satisfied: cattrs==22.1.0 in ./.mindsdb/lib/python3.8/site-packages (from gooddata-sdk) (22.1.0)\r\n",
      "Requirement already satisfied: attrs==21.4.0 in ./.mindsdb/lib/python3.8/site-packages (from gooddata-sdk) (21.4.0)\r\n",
      "Requirement already satisfied: gooddata-afm-client~=1.0.0 in ./.mindsdb/lib/python3.8/site-packages (from gooddata-sdk) (1.0.0)\r\n",
      "Requirement already satisfied: pyyaml>=5.1 in ./.mindsdb/lib/python3.8/site-packages (from gooddata-sdk) (6.0)\r\n",
      "Requirement already satisfied: gooddata-scan-client~=1.0.0 in ./.mindsdb/lib/python3.8/site-packages (from gooddata-sdk) (1.0.0)\r\n",
      "Requirement already satisfied: exceptiongroup in ./.mindsdb/lib/python3.8/site-packages (from cattrs==22.1.0->gooddata-sdk) (1.0.0rc8)\r\n",
      "Requirement already satisfied: urllib3>=1.25.3 in ./.mindsdb/lib/python3.8/site-packages (from gooddata-afm-client~=1.0.0->gooddata-sdk) (1.26.10)\r\n",
      "Requirement already satisfied: zipp>=0.5 in ./.mindsdb/lib/python3.8/site-packages (from importlib-metadata>=1.0->gooddata-sdk) (3.8.1)\r\n",
      "Requirement already satisfied: six>=1.5 in ./.mindsdb/lib/python3.8/site-packages (from python-dateutil>=2.5.3->gooddata-sdk) (1.16.0)\r\n",
      "\u001B[33mWARNING: You are using pip version 22.0.4; however, version 22.2 is available.\r\n",
      "You should consider upgrading via the '/Users/jankadlec/Documents/articles/MindsDB/mindsdb-gooddata-integration/.mindsdb/bin/python3 -m pip install --upgrade pip' command.\u001B[0m\u001B[33m\r\n",
      "\u001B[0mRequirement already satisfied: python-dotenv in ./.mindsdb/lib/python3.8/site-packages (0.20.0)\r\n",
      "\u001B[33mWARNING: You are using pip version 22.0.4; however, version 22.2 is available.\r\n",
      "You should consider upgrading via the '/Users/jankadlec/Documents/articles/MindsDB/mindsdb-gooddata-integration/.mindsdb/bin/python3 -m pip install --upgrade pip' command.\u001B[0m\u001B[33m\r\n",
      "\u001B[0m"
     ]
    }
   ],
   "source": [
    "import sys\n",
    "!{sys.executable} -m pip install gooddata-sdk\n",
    "!{sys.executable} -m pip install python-dotenv"
   ],
   "metadata": {
    "collapsed": false,
    "pycharm": {
     "name": "#%%\n"
    }
   }
  },
  {
   "cell_type": "code",
   "execution_count": 2,
   "outputs": [
    {
     "data": {
      "text/plain": "True"
     },
     "execution_count": 2,
     "metadata": {},
     "output_type": "execute_result"
    }
   ],
   "source": [
    "# Import all relevant libraries\n",
    "import os\n",
    "from gooddata_sdk import GoodDataSdk\n",
    "from dotenv import load_dotenv\n",
    "from pathlib import Path\n",
    "\n",
    "load_dotenv()"
   ],
   "metadata": {
    "collapsed": false,
    "pycharm": {
     "name": "#%%\n"
    }
   }
  },
  {
   "cell_type": "code",
   "execution_count": 3,
   "outputs": [],
   "source": [
    "# Initialize connections\n",
    "sdk = GoodDataSdk.create(host_=os.getenv(\"HOST\"), token_=os.getenv(\"TOKEN\"))"
   ],
   "metadata": {
    "collapsed": false,
    "pycharm": {
     "name": "#%%\n"
    }
   }
  },
  {
   "cell_type": "code",
   "execution_count": 4,
   "outputs": [],
   "source": [
    "# Upload data layout\n",
    "root = Path(\"data\")\n",
    "credentials = Path(\"data/credentials.yaml\")\n",
    "\n",
    "sdk.catalog_data_source.load_and_put_declarative_data_sources(layout_root_path=root,credentials_path=credentials)\n",
    "sdk.catalog_workspace.load_and_put_declarative_workspaces(layout_root_path=root)"
   ],
   "metadata": {
    "collapsed": false,
    "pycharm": {
     "name": "#%%\n"
    }
   }
  }
 ],
 "metadata": {
  "kernelspec": {
   "display_name": "Python 3",
   "language": "python",
   "name": "python3"
  },
  "language_info": {
   "codemirror_mode": {
    "name": "ipython",
    "version": 2
   },
   "file_extension": ".py",
   "mimetype": "text/x-python",
   "name": "python",
   "nbconvert_exporter": "python",
   "pygments_lexer": "ipython2",
   "version": "2.7.6"
  }
 },
 "nbformat": 4,
 "nbformat_minor": 0
}