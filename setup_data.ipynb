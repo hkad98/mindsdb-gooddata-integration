{
 "cells": [
  {
   "cell_type": "code",
   "execution_count": null,
   "metadata": {
    "collapsed": false,
    "pycharm": {
     "is_executing": true,
     "name": "#%%\n"
    }
   },
   "outputs": [],
   "source": [
    "import sys\n",
    "!{sys.executable} -m pip install gooddata-sdk==1.0\n",
    "!{sys.executable} -m pip install python-dotenv\n",
    "\n",
    "# Do not forget to install ipykernel to be able to use Jupyter Notebook\n",
    "# Executing cells modifies the file. Please, ignore these changes."
   ]
  },
  {
   "cell_type": "code",
   "execution_count": null,
   "metadata": {
    "collapsed": false,
    "pycharm": {
     "is_executing": true,
     "name": "#%%\n"
    }
   },
   "outputs": [],
   "source": [
    "# Import all relevant libraries\n",
    "import os\n",
    "from gooddata_sdk import GoodDataSdk\n",
    "from dotenv import load_dotenv\n",
    "from pathlib import Path\n",
    "\n",
    "load_dotenv()"
   ]
  },
  {
   "cell_type": "code",
   "execution_count": null,
   "metadata": {
    "collapsed": false,
    "pycharm": {
     "name": "#%%\n"
    }
   },
   "outputs": [],
   "source": [
    "# Initialize connections\n",
    "sdk = GoodDataSdk.create(host_=os.getenv(\"HOST\"), token_=os.getenv(\"TOKEN\"))"
   ]
  },
  {
   "cell_type": "code",
   "execution_count": null,
   "metadata": {
    "collapsed": false,
    "pycharm": {
     "name": "#%%\n"
    }
   },
   "outputs": [],
   "source": [
    "# Upload data layout\n",
    "root = Path(\"data\")\n",
    "credentials = Path(\"data/credentials.yaml\")\n",
    "\n",
    "sdk.catalog_data_source.load_and_put_declarative_data_sources(layout_root_path=root,credentials_path=credentials)\n",
    "sdk.catalog_workspace.load_and_put_declarative_workspaces(layout_root_path=root)"
   ]
  }
 ],
 "metadata": {
  "kernelspec": {
   "display_name": "Python 3",
   "language": "python",
   "name": "python3"
  },
  "language_info": {
   "codemirror_mode": {
    "name": "ipython",
    "version": 2
   },
   "file_extension": ".py",
   "mimetype": "text/x-python",
   "name": "python",
   "nbconvert_exporter": "python",
   "pygments_lexer": "ipython2",
   "version": "2.7.6"
  }
 },
 "nbformat": 4,
 "nbformat_minor": 0
}